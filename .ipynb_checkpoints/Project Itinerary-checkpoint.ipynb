{
 "cells": [
  {
   "cell_type": "code",
   "execution_count": 6,
   "id": "98a0fb62",
   "metadata": {},
   "outputs": [
    {
     "name": "stdout",
     "output_type": "stream",
     "text": [
      "Key: (1, 1, 'N200WN')\n",
      "Flights:\n",
      "       UniqueCarrier  Month  DayofMonth  DayOfWeek  DepTime  ArrTime  \\\n",
      "296806            WN      1           1          2    629.0    853.0   \n",
      "297042            WN      1           1          2    938.0   1312.0   \n",
      "296770            WN      1           1          2   1343.0   1536.0   \n",
      "295892            WN      1           1          2   1604.0   1823.0   \n",
      "296786            WN      1           1          2   1929.0   2151.0   \n",
      "\n",
      "        FlightNum TailNum Origin Dest  \n",
      "296806        589  N200WN    MCO  MHT  \n",
      "297042       1933  N200WN    MHT  MCO  \n",
      "296770       2020  N200WN    MCO  CMH  \n",
      "295892       1278  N200WN    CMH  MCO  \n",
      "296786       3256  N200WN    MCO  IND  \n",
      "Key: (1, 1, 'N201LV')\n",
      "Flights:\n",
      "       UniqueCarrier  Month  DayofMonth  DayOfWeek  DepTime  ArrTime  \\\n",
      "297592            WN      1           1          2    729.0   1030.0   \n",
      "296497            WN      1           1          2   1110.0   1219.0   \n",
      "297710            WN      1           1          2   1250.0   1919.0   \n",
      "296965            WN      1           1          2   2000.0   2252.0   \n",
      "\n",
      "        FlightNum TailNum Origin Dest  \n",
      "297592       3423  N201LV    PVD  LAS  \n",
      "296497       3423  N201LV    LAS  SAN  \n",
      "297710       3510  N201LV    SAN  MDW  \n",
      "296965       3510  N201LV    MDW  ORF  \n"
     ]
    }
   ],
   "source": [
    "import pandas as pd\n",
    "            \n",
    "data = pd.read_csv(\"2008.csv\")\n",
    "\n",
    "col = data.loc[data['UniqueCarrier'] == 'WN', ['UniqueCarrier', 'Month', 'DayofMonth', 'DayOfWeek', 'DepTime', 'ArrTime', 'FlightNum', 'TailNum', 'Origin', 'Dest']]\n",
    "\n",
    "itinerary = col.groupby(['Month', 'DayofMonth', 'TailNum'])\n",
    "\n",
    "for i, (key, flights) in enumerate(itinerary):\n",
    "    print(\"Key:\", key)\n",
    "    print(\"Flights:\")\n",
    "    sorted = flights.sort_values(by='DepTime')\n",
    "    print(sorted)\n",
    "    \n",
    "    if i == 1:\n",
    "        break\n",
    "    \n",
    "        \n"
   ]
  },
  {
   "cell_type": "code",
   "execution_count": null,
   "id": "25c25378",
   "metadata": {},
   "outputs": [],
   "source": []
  },
  {
   "cell_type": "code",
   "execution_count": null,
   "id": "23db5965",
   "metadata": {},
   "outputs": [],
   "source": []
  },
  {
   "cell_type": "code",
   "execution_count": null,
   "id": "0a34eb7b",
   "metadata": {},
   "outputs": [],
   "source": []
  },
  {
   "cell_type": "code",
   "execution_count": null,
   "id": "750d7411",
   "metadata": {},
   "outputs": [],
   "source": []
  },
  {
   "cell_type": "code",
   "execution_count": null,
   "id": "f33f8d23",
   "metadata": {},
   "outputs": [],
   "source": []
  },
  {
   "cell_type": "code",
   "execution_count": null,
   "id": "d335a791",
   "metadata": {},
   "outputs": [],
   "source": []
  }
 ],
 "metadata": {
  "kernelspec": {
   "display_name": "Python 3 (ipykernel)",
   "language": "python",
   "name": "python3"
  },
  "language_info": {
   "codemirror_mode": {
    "name": "ipython",
    "version": 3
   },
   "file_extension": ".py",
   "mimetype": "text/x-python",
   "name": "python",
   "nbconvert_exporter": "python",
   "pygments_lexer": "ipython3",
   "version": "3.10.9"
  }
 },
 "nbformat": 4,
 "nbformat_minor": 5
}
