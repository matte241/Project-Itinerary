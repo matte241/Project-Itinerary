{
 "cells": [
  {
   "cell_type": "code",
   "execution_count": null,
   "id": "2ab354c2",
   "metadata": {},
   "outputs": [],
   "source": []
  },
  {
   "cell_type": "code",
   "execution_count": null,
   "id": "0b62b5ea",
   "metadata": {},
   "outputs": [],
   "source": []
  },
  {
   "cell_type": "code",
   "execution_count": null,
   "id": "19f13778",
   "metadata": {},
   "outputs": [
    {
     "name": "stdout",
     "output_type": "stream",
     "text": [
      " * Serving Flask app '__main__'\n",
      " * Debug mode: off\n"
     ]
    },
    {
     "name": "stderr",
     "output_type": "stream",
     "text": [
      "WARNING: This is a development server. Do not use it in a production deployment. Use a production WSGI server instead.\n",
      " * Running on http://127.0.0.1:5000\n",
      "Press CTRL+C to quit\n",
      "127.0.0.1 - - [26/Jun/2023 19:27:38] \"GET / HTTP/1.1\" 200 -\n"
     ]
    }
   ],
   "source": [
    "from flask import Flask, render_template\n",
    "import pandas as pd\n",
    "from datetime import datetime\n",
    "\n",
    "app = Flask(__name__)\n",
    "\n",
    "data = pd.read_csv(\"2008.csv\")\n",
    "\n",
    "@app.route('/')\n",
    "def index():\n",
    "    current_time = datetime.now().time().strftime(\"%I:%M %p\")\n",
    "\n",
    "    itinerary = data.loc[(data['Month'] == datetime.now().month) & (data['DayofMonth'] == datetime.now().day), ['DepTime', 'ArrTime', 'FlightNum', 'Origin', 'Dest']]\n",
    "    itinerary = itinerary.dropna()\n",
    "\n",
    "    delays = data[['CarrierDelay', 'WeatherDelay', 'NASDelay', 'SecurityDelay', 'LateAircraftDelay']]\n",
    "    cancellations = data[['Cancelled']]\n",
    "\n",
    "    def parse_time(time_str):\n",
    "        if time_str is None or pd.isna(time_str):\n",
    "            return None\n",
    "        try:\n",
    "            time_obj = datetime.strptime(str(time_str).split('.')[0], \"%H%M\").time()\n",
    "            return time_obj\n",
    "        except ValueError:\n",
    "            return None\n",
    "\n",
    "    def has_delay(row):\n",
    "        for column in delays:\n",
    "            if pd.notna(data.loc[row.name, column]) and data.loc[row.name, column] >= 15:\n",
    "                return True\n",
    "        return False\n",
    "\n",
    "    def cancelled(row):\n",
    "        for column in cancellations:\n",
    "            if pd.notna(data.loc[row.name, column]) and data.loc[row.name, column] != 0:\n",
    "                return True\n",
    "        return False\n",
    "\n",
    "    def arrivals(airport):\n",
    "        current_time = datetime.now().time()\n",
    "        filtered_rows = [row for row in data.itertuples() if row.Origin == airport]\n",
    "        results = []\n",
    "        for row in filtered_rows:\n",
    "            dep_time = parse_time(row.DepTime)\n",
    "            arr_time = parse_time(row.ArrTime)\n",
    "            if dep_time is not None and arr_time is not None and row.Dest == airport and dep_time <= current_time <= arr_time:\n",
    "                results.append(row)\n",
    "        return results\n",
    "\n",
    "    def departures(airport):\n",
    "        departures_list = []\n",
    "        for _, row in itinerary.iterrows():\n",
    "            dep_time = parse_time(row['DepTime'])\n",
    "            if dep_time is not None and row['Origin'] == airport and datetime.now().time() <= dep_time:\n",
    "                status = \"Delayed\" if has_delay(row) else \"Cancelled\" if cancelled(row) else \"On Time\"\n",
    "                departures_list.append((row['FlightNum'], row['Origin'], row['Dest'], status, dep_time))\n",
    "        return departures_list\n",
    "\n",
    "    return render_template('index.html', current_time=current_time, arrivals=arrivals('TPA'), departures=departures('TPA'))\n",
    "\n",
    "if __name__ == '__main__':\n",
    "    app.run()\n"
   ]
  },
  {
   "cell_type": "code",
   "execution_count": null,
   "id": "5086589e",
   "metadata": {},
   "outputs": [],
   "source": []
  },
  {
   "cell_type": "code",
   "execution_count": null,
   "id": "bac82029",
   "metadata": {},
   "outputs": [],
   "source": []
  },
  {
   "cell_type": "code",
   "execution_count": null,
   "id": "b46691cd",
   "metadata": {},
   "outputs": [],
   "source": []
  },
  {
   "cell_type": "code",
   "execution_count": null,
   "id": "824ca9c2",
   "metadata": {},
   "outputs": [],
   "source": []
  },
  {
   "cell_type": "code",
   "execution_count": null,
   "id": "c4f11ce1",
   "metadata": {},
   "outputs": [],
   "source": []
  },
  {
   "cell_type": "code",
   "execution_count": null,
   "id": "169c749e",
   "metadata": {},
   "outputs": [],
   "source": []
  }
 ],
 "metadata": {
  "kernelspec": {
   "display_name": "Python 3 (ipykernel)",
   "language": "python",
   "name": "python3"
  },
  "language_info": {
   "codemirror_mode": {
    "name": "ipython",
    "version": 3
   },
   "file_extension": ".py",
   "mimetype": "text/x-python",
   "name": "python",
   "nbconvert_exporter": "python",
   "pygments_lexer": "ipython3",
   "version": "3.10.9"
  }
 },
 "nbformat": 4,
 "nbformat_minor": 5
}
